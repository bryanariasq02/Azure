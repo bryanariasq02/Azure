{
    "cells": [
        {
            "cell_type": "code",
            "execution_count": 1,
            "metadata": {
                "azdata_cell_guid": "1960bcc8-71e3-49e6-9f2b-32b082455ffc"
            },
            "outputs": [
                {
                    "name": "stdout",
                    "output_type": "stream",
                    "text": [
                        "new\n"
                    ]
                }
            ],
            "source": [
                "import getpass\n",
                "import pymongo\n",
                "\n",
                "URI = getpass.getpass()\n",
                "\n",
                "client  = pymongo.MongoClient(URI)\n",
                "db_list = client.list_database_names()"
            ]
        }
    ],
    "metadata": {
        "kernelspec": {
            "display_name": "Python 3",
            "language": "python",
            "name": "python3"
        },
        "language_info": {
            "codemirror_mode": {
                "name": "ipython",
                "version": 3
            },
            "file_extension": ".py",
            "mimetype": "text/x-python",
            "name": "python",
            "nbconvert_exporter": "python",
            "pygments_lexer": "ipython3",
            "version": "3.8.3"
        }
    },
    "nbformat": 4,
    "nbformat_minor": 2
}
