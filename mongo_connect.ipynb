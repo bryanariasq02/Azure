{
    "metadata": {
        "kernelspec": {
            "name": "python3",
            "display_name": "Python 3",
            "language": "python"
        },
        "language_info": {
            "name": "python",
            "version": "3.8.3",
            "mimetype": "text/x-python",
            "codemirror_mode": {
                "name": "ipython",
                "version": 3
            },
            "pygments_lexer": "ipython3",
            "nbconvert_exporter": "python",
            "file_extension": ".py"
        }
    },
    "nbformat_minor": 2,
    "nbformat": 4,
    "cells": [
        {
            "cell_type": "code",
            "source": [
                "import getpass\n",
                "import pymongo\n",
                "\n",
                "URI = getpass.getpass()\n",
                "\n",
                "client  = pymongo.MongoClient(URI)\n",
                "try:\n",
                "    client.server_info() # validate connection string\n",
                "except pymongo.errors.ServerSelectionTimeoutError:\n",
                "    raise TimeoutError(\"error\")\n",
                "db_list = client.list_database_names()"
            ],
            "metadata": {
                "azdata_cell_guid": "1960bcc8-71e3-49e6-9f2b-32b082455ffc",
                "language": "python"
            },
            "outputs": [
                {
                    "output_type": "stream",
                    "name": "stdout",
                    "text": "new\n"
                }
            ],
            "execution_count": 1
        }
    ]
}